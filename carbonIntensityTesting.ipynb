{
 "cells": [
  {
   "cell_type": "markdown",
   "id": "4c203ddd",
   "metadata": {},
   "source": [
    "# comparing carbon intensity values"
   ]
  },
  {
   "cell_type": "code",
   "execution_count": 61,
   "id": "5f230b3e",
   "metadata": {},
   "outputs": [],
   "source": [
    "import pandas as pd\n",
    "import util as ut\n",
    "import numpy as np\n",
    "import json\n",
    "from datetime import datetime\n",
    "clist = [\"BE\",\"DE\",\"FR\",\"FI\",\"GR\",\"LT\",\"NL\",\"NO\",\"PL\"]"
   ]
  },
  {
   "cell_type": "code",
   "execution_count": 63,
   "id": "926f39e7",
   "metadata": {},
   "outputs": [],
   "source": [
    "'''\n",
    "for a given country  and column name \n",
    "- read exp data from data folder \n",
    "- read ref data : multiple files combine data\n",
    "'''\n",
    "\n",
    "def combine_data_files1(country):\n",
    "    # Read the three CSV files\n",
    "    df1 = pd.read_csv('./testdata/'+country+'_2021_hourly.csv')\n",
    "    df2 = pd.read_csv('./testdata/'+country+'_2022_hourly.csv')\n",
    "    df3 = pd.read_csv('./testdata/'+country+'_2023_hourly.csv')\n",
    "    # Concatenate the DataFrames\n",
    "    combined_df = pd.concat([df1, df2, df3])\n",
    "    # Optionally reset the index\n",
    "    combined_df = combined_df.reset_index(drop=True)\n",
    "    # Save the combined DataFrame to a new CSV file\n",
    "    combined_df.to_csv('./testdata/'+country+'_2021_2023_hourly.csv', index=False)\n",
    "    for c in clist:\n",
    "        combine_data_files1(c)"
   ]
  },
  {
   "cell_type": "code",
   "execution_count": 64,
   "id": "0b301b0e",
   "metadata": {},
   "outputs": [],
   "source": [
    "def get_combined_data(country):\n",
    "    exp_file = \"./data/\"+country+\"-actual-60.csv\"\n",
    "    ref_file = \"./testdata/\"+country+\"_2021_2023_hourly.csv\"\n",
    "    exp = pd.read_csv(exp_file)\n",
    "    exp['startTime1'] = pd.to_datetime(exp['startTime'], format = '%Y%m%d%H%M')\n",
    "    exp1 =  exp[(exp['startTime1'].dt.year >= 2021) & (exp['startTime1'].dt.year <= 2023)]\n",
    "    ref = pd.read_csv(ref_file)\n",
    "    ref['startTime1'] = pd.to_datetime(ref['Datetime (UTC)'])\n",
    "    ref.set_index('startTime1', inplace=True)\n",
    "    exp.set_index('startTime1', inplace=True)\n",
    "    combined_data = pd.concat([ref.loc['2021-01-01':'2023-12-31'], exp.loc['2021-01-01':'2023-12-31']], axis=1)\n",
    "    combined_data.rename(columns={\"Carbon Intensity gCO₂eq/kWh (direct)\":\"ci_electmap\"}, inplace=True)\n",
    "    return combined_data"
   ]
  },
  {
   "cell_type": "code",
   "execution_count": 65,
   "id": "4e39e7fd",
   "metadata": {},
   "outputs": [],
   "source": [
    "def make_comparisions(country):\n",
    "    df = get_combined_data(country)\n",
    "    comparison = {}\n",
    "    # ci1 with elect map data\n",
    "    squared_diff_ci1 = (df['ci1_kgCO2perkWh'] - df['ci_electmap']) ** 2\n",
    "    mean_squared_diff_ci1 = np.mean(squared_diff_ci1)\n",
    "    rmse_ci1 = np.sqrt(mean_squared_diff_ci1)\n",
    "    comparison[\"rmse_ci1_and_ci_electmap\"] = rmse_ci1\n",
    "    \n",
    "    mae_ci1 = np.mean(np.abs(df['ci_electmap'] - df['ci1_kgCO2perkWh']))\n",
    "    comparison[\"mae_ci1_and_ci_electmap\"] = mae_ci1\n",
    "\n",
    "    squared_diff_ci2 = (df['percentRenewable'] - df['Renewable Percentage']) ** 2\n",
    "    mean_squared_diff_ci2 = np.mean(squared_diff_ci2)\n",
    "    rmse_ci2 = np.sqrt(mean_squared_diff_ci2)\n",
    "    comparison[\"rmse_per_renew_and_pre_renew_electmap\"] = rmse_ci2\n",
    "    \n",
    "    mae_perre = np.mean(np.abs(df['Renewable Percentage'] - df['percentRenewable']))\n",
    "    comparison[\"mae_per_renew_and_pre_renew_electmap\"] = mae_perre\n",
    "    \n",
    "    comparison[\"update_date\"] = datetime.now().strftime(\"%Y-%m-%d %H:%M:%S\")\n",
    "    # print(comparison)\n",
    "    comparison[\"country\"] = country\n",
    "    with open('./data/'+country+'-comparison.json', 'w') as f:\n",
    "        json.dump(comparison, f, indent=4)\n",
    "    "
   ]
  },
  {
   "cell_type": "code",
   "execution_count": 66,
   "id": "040c2f24",
   "metadata": {},
   "outputs": [],
   "source": [
    "for c in clist:\n",
    "    make_comparisions(c)"
   ]
  }
 ],
 "metadata": {
  "kernelspec": {
   "display_name": "Python 3 (ipykernel)",
   "language": "python",
   "name": "python3"
  },
  "language_info": {
   "codemirror_mode": {
    "name": "ipython",
    "version": 3
   },
   "file_extension": ".py",
   "mimetype": "text/x-python",
   "name": "python",
   "nbconvert_exporter": "python",
   "pygments_lexer": "ipython3",
   "version": "3.9.15"
  }
 },
 "nbformat": 4,
 "nbformat_minor": 5
}
